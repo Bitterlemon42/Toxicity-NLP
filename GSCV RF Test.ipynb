{
 "cells": [
  {
   "cell_type": "code",
   "execution_count": 1,
   "metadata": {},
   "outputs": [
    {
     "name": "stdout",
     "output_type": "stream",
     "text": [
      "Python version: 3.6.3 |Anaconda custom (64-bit)| (default, Oct 15 2017, 03:27:45) [MSC v.1900 64 bit (AMD64)]\n",
      "IPython: 6.1.0\n",
      "numpy: 1.13.3\n",
      "scipy: 0.19.1\n",
      "pandas: 0.20.3\n",
      "scikit-learn: 0.19.1\n"
     ]
    }
   ],
   "source": [
    "#Import der Libraries\n",
    "\n",
    "import sys\n",
    "print('Python version:', sys.version)\n",
    "\n",
    "import IPython\n",
    "print('IPython:', IPython.__version__)\n",
    "\n",
    "from time import time\n",
    "\n",
    "import numpy as np\n",
    "print('numpy:', np.__version__)\n",
    "\n",
    "import scipy\n",
    "print('scipy:', scipy.__version__)\n",
    "\n",
    "import pandas as pd\n",
    "print('pandas:', pd.__version__)\n",
    "\n",
    "import matplotlib.pyplot as plt\n",
    "#print('matplotlib:', plt.__version__)\n",
    "\n",
    "import sklearn\n",
    "print('scikit-learn:', sklearn.__version__)\n",
    "from sklearn import metrics\n",
    "from sklearn import ensemble\n",
    "\n",
    "from sklearn.feature_extraction.text import CountVectorizer\n",
    "from sklearn.feature_extraction.text import TfidfVectorizer\n",
    "from sklearn.feature_extraction.text import TfidfTransformer\n",
    "\n",
    "from sklearn.datasets import make_classification\n",
    "from sklearn.decomposition import PCA\n",
    "\n",
    "import sklearn.model_selection as ms\n",
    "from sklearn.model_selection import GridSearchCV\n",
    "\n",
    "from sklearn.linear_model import LogisticRegression\n",
    "from sklearn.neighbors import KNeighborsClassifier\n",
    "from sklearn.naive_bayes import MultinomialNB\n",
    "from sklearn.naive_bayes import BernoulliNB\n",
    "\n",
    "from sklearn.pipeline import Pipeline\n",
    "from sklearn.linear_model import SGDClassifier\n",
    "\n",
    "import string"
   ]
  },
  {
   "cell_type": "code",
   "execution_count": null,
   "metadata": {},
   "outputs": [],
   "source": [
    "# Daten einlesen\n",
    "data_train = pd.read_csv('D:/Projekte/Toxicity NLP/Data/train.csv')\n",
    "data_test = pd.read_csv('D:/Projekte/Toxicity NLP/Data/test.csv')\n",
    "\n",
    "# Definiere Features (X) und Labels (y)\n",
    "X = data_train['comment_text']\n",
    "y = data_train['toxic']"
   ]
  },
  {
   "cell_type": "code",
   "execution_count": null,
   "metadata": {},
   "outputs": [],
   "source": [
    "pipeline = Pipeline([\n",
    "    ('vect', CountVectorizer()),\n",
    "    ('clf', ensemble.RandomForestClassifier()),\n",
    "])\n",
    "\n",
    "# Random Forest mit Grid Search\n",
    "params = {\n",
    "   'clf__n_estimators': (5, 6),\n",
    "   'clf__max_depth': (1, 2),\n",
    "   'clf__criterion' : ('entropy', 'gini'),\n",
    "}\n",
    "\n",
    "\n",
    "\n",
    "if __name__ == \"__main__\":\n",
    "    grid_search = GridSearchCV(pipeline, param_grid=params, n_jobs=-1, verbose=1, cv=2)\n",
    "    t0 = time()\n",
    "    grid_search.fit(X, y)\n",
    "    t1 = time() - t0\n",
    "    print(f\"done in {t1}\")\n",
    "    print()\n",
    "    \n",
    "    print(grid_search.best_score_)\n",
    "    print(\"Best parameters set:\")\n",
    "    best_parameters = grid_search.best_estimator_.get_params()\n",
    "    for param_name in sorted(params.keys()):\n",
    "        print(f\"\\t{param_name}: {best_parameters[param_name]}\")\n"
   ]
  }
 ],
 "metadata": {
  "kernelspec": {
   "display_name": "Python 3",
   "language": "python",
   "name": "python3"
  },
  "language_info": {
   "codemirror_mode": {
    "name": "ipython",
    "version": 3
   },
   "file_extension": ".py",
   "mimetype": "text/x-python",
   "name": "python",
   "nbconvert_exporter": "python",
   "pygments_lexer": "ipython3",
   "version": "3.6.3"
  }
 },
 "nbformat": 4,
 "nbformat_minor": 2
}
